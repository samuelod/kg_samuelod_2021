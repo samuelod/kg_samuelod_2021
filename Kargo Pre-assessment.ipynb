{
 "cells": [
  {
   "cell_type": "markdown",
   "metadata": {},
   "source": [
    "# Kargo Pre Assessment"
   ]
  },
  {
   "cell_type": "markdown",
   "metadata": {},
   "source": [
    "Determine whether a one-to-one character mapping exists from one string, s1, to another string, s2.\n",
    "\n",
    "For example, given  s1 = abc  and  s2 = bcd,  print \" true\" into stdout  since we can map each character in \"abc\" to a character in \"bcd\".\n",
    "\n",
    "Given  s1 = foo  and  s2 = bar,  print \"false\"  since the character ‘o’ cannot map to two characters. \n",
    "\n",
    "But given  s1 = bar and  s2 = foo , print \"true \"  since each character in \"bar\" can be mapped to a\n",
    "character in \"foo\".\n"
   ]
  },
  {
   "cell_type": "code",
   "execution_count": 72,
   "metadata": {},
   "outputs": [],
   "source": [
    "def one_to_one_mapping(s1, s2):\n",
    "    dict_s1 = {} \n",
    "    dict_s2 = {} \n",
    "    for i, str in enumerate(s1):\n",
    "        if str in dict_s1:\n",
    "            if s2[i] != dict_s1[str]:\n",
    "                return False\n",
    "        else:\n",
    "            dict_s1[str] = s2[i]\n",
    "        if s2[i] in dict_s2:\n",
    "            if str != dict_s2[s2[i]]:\n",
    "                return False\n",
    "        else:\n",
    "            dict_s2[s2[i]] = str\n",
    "    return True"
   ]
  },
  {
   "cell_type": "code",
   "execution_count": 73,
   "metadata": {},
   "outputs": [
    {
     "name": "stdout",
     "output_type": "stream",
     "text": [
      "True\n",
      "False\n",
      "False\n"
     ]
    }
   ],
   "source": [
    "print(one_to_one_mapping(\"abc\", \"bcd\"))\n",
    "print(one_to_one_mapping(\"foo\", \"bar\"))\n",
    "print(one_to_one_mapping(\"bar\", \"foo\"))"
   ]
  }
 ],
 "metadata": {
  "kernelspec": {
   "display_name": "Python 3",
   "language": "python",
   "name": "python3"
  },
  "language_info": {
   "codemirror_mode": {
    "name": "ipython",
    "version": 3
   },
   "file_extension": ".py",
   "mimetype": "text/x-python",
   "name": "python",
   "nbconvert_exporter": "python",
   "pygments_lexer": "ipython3",
   "version": "3.7.3"
  }
 },
 "nbformat": 4,
 "nbformat_minor": 2
}
